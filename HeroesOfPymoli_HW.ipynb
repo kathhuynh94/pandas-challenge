{
 "cells": [
  {
   "cell_type": "markdown",
   "metadata": {},
   "source": [
    "### Note\n",
    "* Instructions have been included for each segment. You do not have to follow them exactly, but they are included to help you think through the steps."
   ]
  },
  {
   "cell_type": "code",
   "execution_count": 1,
   "metadata": {},
   "outputs": [
    {
     "data": {
      "text/html": [
       "<div>\n",
       "<style scoped>\n",
       "    .dataframe tbody tr th:only-of-type {\n",
       "        vertical-align: middle;\n",
       "    }\n",
       "\n",
       "    .dataframe tbody tr th {\n",
       "        vertical-align: top;\n",
       "    }\n",
       "\n",
       "    .dataframe thead th {\n",
       "        text-align: right;\n",
       "    }\n",
       "</style>\n",
       "<table border=\"1\" class=\"dataframe\">\n",
       "  <thead>\n",
       "    <tr style=\"text-align: right;\">\n",
       "      <th></th>\n",
       "      <th>Purchase ID</th>\n",
       "      <th>SN</th>\n",
       "      <th>Age</th>\n",
       "      <th>Gender</th>\n",
       "      <th>Item ID</th>\n",
       "      <th>Item Name</th>\n",
       "      <th>Price</th>\n",
       "    </tr>\n",
       "  </thead>\n",
       "  <tbody>\n",
       "    <tr>\n",
       "      <td>0</td>\n",
       "      <td>0</td>\n",
       "      <td>Lisim78</td>\n",
       "      <td>20</td>\n",
       "      <td>Male</td>\n",
       "      <td>108</td>\n",
       "      <td>Extraction, Quickblade Of Trembling Hands</td>\n",
       "      <td>3.53</td>\n",
       "    </tr>\n",
       "    <tr>\n",
       "      <td>1</td>\n",
       "      <td>1</td>\n",
       "      <td>Lisovynya38</td>\n",
       "      <td>40</td>\n",
       "      <td>Male</td>\n",
       "      <td>143</td>\n",
       "      <td>Frenzied Scimitar</td>\n",
       "      <td>1.56</td>\n",
       "    </tr>\n",
       "    <tr>\n",
       "      <td>2</td>\n",
       "      <td>2</td>\n",
       "      <td>Ithergue48</td>\n",
       "      <td>24</td>\n",
       "      <td>Male</td>\n",
       "      <td>92</td>\n",
       "      <td>Final Critic</td>\n",
       "      <td>4.88</td>\n",
       "    </tr>\n",
       "    <tr>\n",
       "      <td>3</td>\n",
       "      <td>3</td>\n",
       "      <td>Chamassasya86</td>\n",
       "      <td>24</td>\n",
       "      <td>Male</td>\n",
       "      <td>100</td>\n",
       "      <td>Blindscythe</td>\n",
       "      <td>3.27</td>\n",
       "    </tr>\n",
       "    <tr>\n",
       "      <td>4</td>\n",
       "      <td>4</td>\n",
       "      <td>Iskosia90</td>\n",
       "      <td>23</td>\n",
       "      <td>Male</td>\n",
       "      <td>131</td>\n",
       "      <td>Fury</td>\n",
       "      <td>1.44</td>\n",
       "    </tr>\n",
       "    <tr>\n",
       "      <td>...</td>\n",
       "      <td>...</td>\n",
       "      <td>...</td>\n",
       "      <td>...</td>\n",
       "      <td>...</td>\n",
       "      <td>...</td>\n",
       "      <td>...</td>\n",
       "      <td>...</td>\n",
       "    </tr>\n",
       "    <tr>\n",
       "      <td>775</td>\n",
       "      <td>775</td>\n",
       "      <td>Aethedru70</td>\n",
       "      <td>21</td>\n",
       "      <td>Female</td>\n",
       "      <td>60</td>\n",
       "      <td>Wolf</td>\n",
       "      <td>3.54</td>\n",
       "    </tr>\n",
       "    <tr>\n",
       "      <td>776</td>\n",
       "      <td>776</td>\n",
       "      <td>Iral74</td>\n",
       "      <td>21</td>\n",
       "      <td>Male</td>\n",
       "      <td>164</td>\n",
       "      <td>Exiled Doomblade</td>\n",
       "      <td>1.63</td>\n",
       "    </tr>\n",
       "    <tr>\n",
       "      <td>777</td>\n",
       "      <td>777</td>\n",
       "      <td>Yathecal72</td>\n",
       "      <td>20</td>\n",
       "      <td>Male</td>\n",
       "      <td>67</td>\n",
       "      <td>Celeste, Incarnation of the Corrupted</td>\n",
       "      <td>3.46</td>\n",
       "    </tr>\n",
       "    <tr>\n",
       "      <td>778</td>\n",
       "      <td>778</td>\n",
       "      <td>Sisur91</td>\n",
       "      <td>7</td>\n",
       "      <td>Male</td>\n",
       "      <td>101</td>\n",
       "      <td>Final Critic</td>\n",
       "      <td>4.19</td>\n",
       "    </tr>\n",
       "    <tr>\n",
       "      <td>779</td>\n",
       "      <td>779</td>\n",
       "      <td>Ennrian78</td>\n",
       "      <td>24</td>\n",
       "      <td>Male</td>\n",
       "      <td>50</td>\n",
       "      <td>Dawn</td>\n",
       "      <td>4.60</td>\n",
       "    </tr>\n",
       "  </tbody>\n",
       "</table>\n",
       "<p>780 rows × 7 columns</p>\n",
       "</div>"
      ],
      "text/plain": [
       "     Purchase ID             SN  Age  Gender  Item ID  \\\n",
       "0              0        Lisim78   20    Male      108   \n",
       "1              1    Lisovynya38   40    Male      143   \n",
       "2              2     Ithergue48   24    Male       92   \n",
       "3              3  Chamassasya86   24    Male      100   \n",
       "4              4      Iskosia90   23    Male      131   \n",
       "..           ...            ...  ...     ...      ...   \n",
       "775          775     Aethedru70   21  Female       60   \n",
       "776          776         Iral74   21    Male      164   \n",
       "777          777     Yathecal72   20    Male       67   \n",
       "778          778        Sisur91    7    Male      101   \n",
       "779          779      Ennrian78   24    Male       50   \n",
       "\n",
       "                                     Item Name  Price  \n",
       "0    Extraction, Quickblade Of Trembling Hands   3.53  \n",
       "1                            Frenzied Scimitar   1.56  \n",
       "2                                 Final Critic   4.88  \n",
       "3                                  Blindscythe   3.27  \n",
       "4                                         Fury   1.44  \n",
       "..                                         ...    ...  \n",
       "775                                       Wolf   3.54  \n",
       "776                           Exiled Doomblade   1.63  \n",
       "777      Celeste, Incarnation of the Corrupted   3.46  \n",
       "778                               Final Critic   4.19  \n",
       "779                                       Dawn   4.60  \n",
       "\n",
       "[780 rows x 7 columns]"
      ]
     },
     "execution_count": 1,
     "metadata": {},
     "output_type": "execute_result"
    }
   ],
   "source": [
    "# Dependencies and Setup\n",
    "import pandas as pd\n",
    "\n",
    "# File to Load (Remember to Change These)\n",
    "file_to_load = \"Resources/purchase_data.csv\"\n",
    "\n",
    "# Read Purchasing File and store into Pandas data frame\n",
    "df = pd.read_csv(file_to_load)\n",
    "df\n"
   ]
  },
  {
   "cell_type": "markdown",
   "metadata": {},
   "source": [
    "## Player Count"
   ]
  },
  {
   "cell_type": "markdown",
   "metadata": {},
   "source": [
    "* Display the total number of players\n"
   ]
  },
  {
   "cell_type": "code",
   "execution_count": 2,
   "metadata": {},
   "outputs": [
    {
     "data": {
      "text/html": [
       "<div>\n",
       "<style scoped>\n",
       "    .dataframe tbody tr th:only-of-type {\n",
       "        vertical-align: middle;\n",
       "    }\n",
       "\n",
       "    .dataframe tbody tr th {\n",
       "        vertical-align: top;\n",
       "    }\n",
       "\n",
       "    .dataframe thead th {\n",
       "        text-align: right;\n",
       "    }\n",
       "</style>\n",
       "<table border=\"1\" class=\"dataframe\">\n",
       "  <thead>\n",
       "    <tr style=\"text-align: right;\">\n",
       "      <th></th>\n",
       "      <th>Total Players</th>\n",
       "    </tr>\n",
       "  </thead>\n",
       "  <tbody>\n",
       "    <tr>\n",
       "      <td>0</td>\n",
       "      <td>576</td>\n",
       "    </tr>\n",
       "  </tbody>\n",
       "</table>\n",
       "</div>"
      ],
      "text/plain": [
       "   Total Players\n",
       "0            576"
      ]
     },
     "execution_count": 2,
     "metadata": {},
     "output_type": "execute_result"
    }
   ],
   "source": [
    "unique_players = len(df[\"SN\"].unique())\n",
    "total_players = pd.DataFrame({\"Total Players\":[unique_players]})\n",
    "\n",
    "total_players"
   ]
  },
  {
   "cell_type": "markdown",
   "metadata": {},
   "source": [
    "## Purchasing Analysis (Total)"
   ]
  },
  {
   "cell_type": "markdown",
   "metadata": {},
   "source": [
    "* Run basic calculations to obtain number of unique items, average price, etc.\n",
    "\n",
    "\n",
    "* Create a summary data frame to hold the results\n",
    "\n",
    "\n",
    "* Optional: give the displayed data cleaner formatting\n",
    "\n",
    "\n",
    "* Display the summary data frame\n",
    " "
   ]
  },
  {
   "cell_type": "code",
   "execution_count": 3,
   "metadata": {
    "scrolled": true
   },
   "outputs": [
    {
     "data": {
      "text/html": [
       "<div>\n",
       "<style scoped>\n",
       "    .dataframe tbody tr th:only-of-type {\n",
       "        vertical-align: middle;\n",
       "    }\n",
       "\n",
       "    .dataframe tbody tr th {\n",
       "        vertical-align: top;\n",
       "    }\n",
       "\n",
       "    .dataframe thead th {\n",
       "        text-align: right;\n",
       "    }\n",
       "</style>\n",
       "<table border=\"1\" class=\"dataframe\">\n",
       "  <thead>\n",
       "    <tr style=\"text-align: right;\">\n",
       "      <th></th>\n",
       "      <th>Item Count</th>\n",
       "      <th>Average Price</th>\n",
       "      <th>Number of Purchases</th>\n",
       "      <th>Revenue</th>\n",
       "    </tr>\n",
       "  </thead>\n",
       "  <tbody>\n",
       "    <tr>\n",
       "      <td>0</td>\n",
       "      <td>183</td>\n",
       "      <td>3.050987</td>\n",
       "      <td>780</td>\n",
       "      <td>2379.77</td>\n",
       "    </tr>\n",
       "  </tbody>\n",
       "</table>\n",
       "</div>"
      ],
      "text/plain": [
       "   Item Count  Average Price  Number of Purchases  Revenue\n",
       "0         183       3.050987                  780  2379.77"
      ]
     },
     "execution_count": 3,
     "metadata": {},
     "output_type": "execute_result"
    }
   ],
   "source": [
    "item_count = len(df[\"Item ID\"].unique())\n",
    "average_price = df[\"Price\"].mean()\n",
    "num_of_purchases = df[\"Purchase ID\"].count()\n",
    "revenue = df[\"Price\"].sum()\n",
    "\n",
    "## number of purchases and total revenue \n",
    "summary_table = pd.DataFrame({\"Item Count\": [item_count], \n",
    "                       \"Average Price\": [average_price],\n",
    "                       \"Number of Purchases\": [num_of_purchases],\n",
    "                       \"Revenue\": [revenue]})\n",
    "summary_table"
   ]
  },
  {
   "cell_type": "markdown",
   "metadata": {},
   "source": [
    "## Gender Demographics"
   ]
  },
  {
   "cell_type": "markdown",
   "metadata": {},
   "source": [
    "* Percentage and Count of Male Players\n",
    "\n",
    "\n",
    "* Percentage and Count of Female Players\n",
    "\n",
    "\n",
    "* Percentage and Count of Other / Non-Disclosed\n",
    "\n",
    "\n"
   ]
  },
  {
   "cell_type": "code",
   "execution_count": 4,
   "metadata": {},
   "outputs": [
    {
     "data": {
      "text/html": [
       "<div>\n",
       "<style scoped>\n",
       "    .dataframe tbody tr th:only-of-type {\n",
       "        vertical-align: middle;\n",
       "    }\n",
       "\n",
       "    .dataframe tbody tr th {\n",
       "        vertical-align: top;\n",
       "    }\n",
       "\n",
       "    .dataframe thead th {\n",
       "        text-align: right;\n",
       "    }\n",
       "</style>\n",
       "<table border=\"1\" class=\"dataframe\">\n",
       "  <thead>\n",
       "    <tr style=\"text-align: right;\">\n",
       "      <th></th>\n",
       "      <th>Total Count</th>\n",
       "      <th>Percentage of Players</th>\n",
       "    </tr>\n",
       "    <tr>\n",
       "      <th>Gender</th>\n",
       "      <th></th>\n",
       "      <th></th>\n",
       "    </tr>\n",
       "  </thead>\n",
       "  <tbody>\n",
       "    <tr>\n",
       "      <td>Female</td>\n",
       "      <td>81</td>\n",
       "      <td>14.062500</td>\n",
       "    </tr>\n",
       "    <tr>\n",
       "      <td>Male</td>\n",
       "      <td>484</td>\n",
       "      <td>84.027778</td>\n",
       "    </tr>\n",
       "    <tr>\n",
       "      <td>Other / Non-Disclosed</td>\n",
       "      <td>11</td>\n",
       "      <td>1.909722</td>\n",
       "    </tr>\n",
       "  </tbody>\n",
       "</table>\n",
       "</div>"
      ],
      "text/plain": [
       "                       Total Count  Percentage of Players\n",
       "Gender                                                   \n",
       "Female                          81              14.062500\n",
       "Male                           484              84.027778\n",
       "Other / Non-Disclosed           11               1.909722"
      ]
     },
     "execution_count": 4,
     "metadata": {},
     "output_type": "execute_result"
    }
   ],
   "source": [
    "gender_df = df.groupby(\"Gender\")\n",
    "total_players_by_gender = gender_df[\"SN\"].nunique()\n",
    "percentage_of_players_by_gender = ((total_players_by_gender / unique_players) * 100)\n",
    "\n",
    "\n",
    "gender_demographics = pd.DataFrame({\"Total Count\": total_players_by_gender, \n",
    "                                    \"Percentage of Players\": percentage_of_players_by_gender})\n",
    "gender_demographics"
   ]
  },
  {
   "cell_type": "markdown",
   "metadata": {},
   "source": [
    "\n",
    "## Purchasing Analysis (Gender)"
   ]
  },
  {
   "cell_type": "markdown",
   "metadata": {},
   "source": [
    "* Run basic calculations to obtain purchase count, avg. purchase price, avg. purchase total per person etc. by gender\n",
    "\n",
    "\n",
    "\n",
    "\n",
    "* Create a summary data frame to hold the results\n",
    "\n",
    "\n",
    "* Optional: give the displayed data cleaner formatting\n",
    "\n",
    "\n",
    "* Display the summary data frame"
   ]
  },
  {
   "cell_type": "code",
   "execution_count": 56,
   "metadata": {
    "scrolled": true
   },
   "outputs": [
    {
     "data": {
      "text/html": [
       "<style  type=\"text/css\" >\n",
       "</style><table id=\"T_f54c43ca_2e8e_11ea_8ad9_dc8b28836412\" ><thead>    <tr>        <th class=\"blank level0\" ></th>        <th class=\"col_heading level0 col0\" >Purchase Count</th>        <th class=\"col_heading level0 col1\" >Average Purchase Price</th>        <th class=\"col_heading level0 col2\" >Total Purchase Value</th>        <th class=\"col_heading level0 col3\" >Avg Total Purchase per Person</th>    </tr>    <tr>        <th class=\"index_name level0\" >Gender</th>        <th class=\"blank\" ></th>        <th class=\"blank\" ></th>        <th class=\"blank\" ></th>        <th class=\"blank\" ></th>    </tr></thead><tbody>\n",
       "                <tr>\n",
       "                        <th id=\"T_f54c43ca_2e8e_11ea_8ad9_dc8b28836412level0_row0\" class=\"row_heading level0 row0\" >Female</th>\n",
       "                        <td id=\"T_f54c43ca_2e8e_11ea_8ad9_dc8b28836412row0_col0\" class=\"data row0 col0\" >113</td>\n",
       "                        <td id=\"T_f54c43ca_2e8e_11ea_8ad9_dc8b28836412row0_col1\" class=\"data row0 col1\" >$3.20</td>\n",
       "                        <td id=\"T_f54c43ca_2e8e_11ea_8ad9_dc8b28836412row0_col2\" class=\"data row0 col2\" >$361.94</td>\n",
       "                        <td id=\"T_f54c43ca_2e8e_11ea_8ad9_dc8b28836412row0_col3\" class=\"data row0 col3\" >$4.47</td>\n",
       "            </tr>\n",
       "            <tr>\n",
       "                        <th id=\"T_f54c43ca_2e8e_11ea_8ad9_dc8b28836412level0_row1\" class=\"row_heading level0 row1\" >Male</th>\n",
       "                        <td id=\"T_f54c43ca_2e8e_11ea_8ad9_dc8b28836412row1_col0\" class=\"data row1 col0\" >652</td>\n",
       "                        <td id=\"T_f54c43ca_2e8e_11ea_8ad9_dc8b28836412row1_col1\" class=\"data row1 col1\" >$3.02</td>\n",
       "                        <td id=\"T_f54c43ca_2e8e_11ea_8ad9_dc8b28836412row1_col2\" class=\"data row1 col2\" >$1,967.64</td>\n",
       "                        <td id=\"T_f54c43ca_2e8e_11ea_8ad9_dc8b28836412row1_col3\" class=\"data row1 col3\" >$4.07</td>\n",
       "            </tr>\n",
       "            <tr>\n",
       "                        <th id=\"T_f54c43ca_2e8e_11ea_8ad9_dc8b28836412level0_row2\" class=\"row_heading level0 row2\" >Other / Non-Disclosed</th>\n",
       "                        <td id=\"T_f54c43ca_2e8e_11ea_8ad9_dc8b28836412row2_col0\" class=\"data row2 col0\" >15</td>\n",
       "                        <td id=\"T_f54c43ca_2e8e_11ea_8ad9_dc8b28836412row2_col1\" class=\"data row2 col1\" >$3.35</td>\n",
       "                        <td id=\"T_f54c43ca_2e8e_11ea_8ad9_dc8b28836412row2_col2\" class=\"data row2 col2\" >$50.19</td>\n",
       "                        <td id=\"T_f54c43ca_2e8e_11ea_8ad9_dc8b28836412row2_col3\" class=\"data row2 col3\" >$4.56</td>\n",
       "            </tr>\n",
       "    </tbody></table>"
      ],
      "text/plain": [
       "<pandas.io.formats.style.Styler at 0x17b4ec99c88>"
      ]
     },
     "execution_count": 56,
     "metadata": {},
     "output_type": "execute_result"
    }
   ],
   "source": [
    "purchase_count_gender = gender_df[\"Purchase ID\"].count()\n",
    "avg_purchase_price_gender = gender_df[\"Price\"].mean()\n",
    "total_purchase_value = gender_df[\"Price\"].sum()\n",
    "avg_purchase_total = total_purchase_value / total_players_by_gender\n",
    "\n",
    "summary_table_2 = pd.DataFrame({\"Purchase Count\": purchase_count_gender,\n",
    "                  \"Average Purchase Price\": avg_purchase_price_gender,\n",
    "                  \"Total Purchase Value\": total_purchase_value,\n",
    "                  \"Avg Total Purchase per Person\": avg_purchase_total})\n",
    "\n",
    "summary_table_2.style.format({\"Average Purchase Price\":\"${:,.2f}\",\n",
    "                              \"Total Purchase Value\":\"${:,.2f}\",\n",
    "                              \"Avg Total Purchase per Person\":\"${:,.2f}\"})\n"
   ]
  },
  {
   "cell_type": "markdown",
   "metadata": {},
   "source": [
    "## Age Demographics"
   ]
  },
  {
   "cell_type": "markdown",
   "metadata": {},
   "source": [
    "* Establish bins for ages\n",
    "\n",
    "\n",
    "* Categorize the existing players using the age bins. Hint: use pd.cut()\n",
    "\n",
    "\n",
    "* Calculate the numbers and percentages by age group\n",
    "\n",
    "\n",
    "* Create a summary data frame to hold the results\n",
    "\n",
    "\n",
    "* Optional: round the percentage column to two decimal points\n",
    "\n",
    "\n",
    "* Display Age Demographics Table\n"
   ]
  },
  {
   "cell_type": "code",
   "execution_count": 55,
   "metadata": {
    "scrolled": true
   },
   "outputs": [
    {
     "data": {
      "text/html": [
       "<style  type=\"text/css\" >\n",
       "</style><table id=\"T_c702cc48_2e8e_11ea_abcf_dc8b28836412\" ><thead>    <tr>        <th class=\"blank level0\" ></th>        <th class=\"col_heading level0 col0\" >Percentage of Players</th>        <th class=\"col_heading level0 col1\" >Total Count</th>    </tr>    <tr>        <th class=\"index_name level0\" >Age Group</th>        <th class=\"blank\" ></th>        <th class=\"blank\" ></th>    </tr></thead><tbody>\n",
       "                <tr>\n",
       "                        <th id=\"T_c702cc48_2e8e_11ea_abcf_dc8b28836412level0_row0\" class=\"row_heading level0 row0\" ><10</th>\n",
       "                        <td id=\"T_c702cc48_2e8e_11ea_abcf_dc8b28836412row0_col0\" class=\"data row0 col0\" >2.95</td>\n",
       "                        <td id=\"T_c702cc48_2e8e_11ea_abcf_dc8b28836412row0_col1\" class=\"data row0 col1\" >17</td>\n",
       "            </tr>\n",
       "            <tr>\n",
       "                        <th id=\"T_c702cc48_2e8e_11ea_abcf_dc8b28836412level0_row1\" class=\"row_heading level0 row1\" >10-14</th>\n",
       "                        <td id=\"T_c702cc48_2e8e_11ea_abcf_dc8b28836412row1_col0\" class=\"data row1 col0\" >3.82</td>\n",
       "                        <td id=\"T_c702cc48_2e8e_11ea_abcf_dc8b28836412row1_col1\" class=\"data row1 col1\" >22</td>\n",
       "            </tr>\n",
       "            <tr>\n",
       "                        <th id=\"T_c702cc48_2e8e_11ea_abcf_dc8b28836412level0_row2\" class=\"row_heading level0 row2\" >15-19</th>\n",
       "                        <td id=\"T_c702cc48_2e8e_11ea_abcf_dc8b28836412row2_col0\" class=\"data row2 col0\" >18.58</td>\n",
       "                        <td id=\"T_c702cc48_2e8e_11ea_abcf_dc8b28836412row2_col1\" class=\"data row2 col1\" >107</td>\n",
       "            </tr>\n",
       "            <tr>\n",
       "                        <th id=\"T_c702cc48_2e8e_11ea_abcf_dc8b28836412level0_row3\" class=\"row_heading level0 row3\" >20-24</th>\n",
       "                        <td id=\"T_c702cc48_2e8e_11ea_abcf_dc8b28836412row3_col0\" class=\"data row3 col0\" >44.79</td>\n",
       "                        <td id=\"T_c702cc48_2e8e_11ea_abcf_dc8b28836412row3_col1\" class=\"data row3 col1\" >258</td>\n",
       "            </tr>\n",
       "            <tr>\n",
       "                        <th id=\"T_c702cc48_2e8e_11ea_abcf_dc8b28836412level0_row4\" class=\"row_heading level0 row4\" >25-29</th>\n",
       "                        <td id=\"T_c702cc48_2e8e_11ea_abcf_dc8b28836412row4_col0\" class=\"data row4 col0\" >13.37</td>\n",
       "                        <td id=\"T_c702cc48_2e8e_11ea_abcf_dc8b28836412row4_col1\" class=\"data row4 col1\" >77</td>\n",
       "            </tr>\n",
       "            <tr>\n",
       "                        <th id=\"T_c702cc48_2e8e_11ea_abcf_dc8b28836412level0_row5\" class=\"row_heading level0 row5\" >30-34</th>\n",
       "                        <td id=\"T_c702cc48_2e8e_11ea_abcf_dc8b28836412row5_col0\" class=\"data row5 col0\" >9.03</td>\n",
       "                        <td id=\"T_c702cc48_2e8e_11ea_abcf_dc8b28836412row5_col1\" class=\"data row5 col1\" >52</td>\n",
       "            </tr>\n",
       "            <tr>\n",
       "                        <th id=\"T_c702cc48_2e8e_11ea_abcf_dc8b28836412level0_row6\" class=\"row_heading level0 row6\" >35-39</th>\n",
       "                        <td id=\"T_c702cc48_2e8e_11ea_abcf_dc8b28836412row6_col0\" class=\"data row6 col0\" >5.38</td>\n",
       "                        <td id=\"T_c702cc48_2e8e_11ea_abcf_dc8b28836412row6_col1\" class=\"data row6 col1\" >31</td>\n",
       "            </tr>\n",
       "            <tr>\n",
       "                        <th id=\"T_c702cc48_2e8e_11ea_abcf_dc8b28836412level0_row7\" class=\"row_heading level0 row7\" >40+</th>\n",
       "                        <td id=\"T_c702cc48_2e8e_11ea_abcf_dc8b28836412row7_col0\" class=\"data row7 col0\" >2.08</td>\n",
       "                        <td id=\"T_c702cc48_2e8e_11ea_abcf_dc8b28836412row7_col1\" class=\"data row7 col1\" >12</td>\n",
       "            </tr>\n",
       "    </tbody></table>"
      ],
      "text/plain": [
       "<pandas.io.formats.style.Styler at 0x17b4f513ec8>"
      ]
     },
     "execution_count": 55,
     "metadata": {},
     "output_type": "execute_result"
    }
   ],
   "source": [
    "age_bins = [0, 9, 14, 19, 24, 29, 34, 39, 99]\n",
    "age_group = [\"<10\", \"10-14\", \"15-19\", \"20-24\", \"25-29\", \"30-34\", \"35-39\", \"40+\"]\n",
    "\n",
    "df[\"Age Group\"] = pd.cut(df[\"Age\"], age_bins, labels=age_group)\n",
    "\n",
    "age_group_df = df.groupby(\"Age Group\")\n",
    "\n",
    "total_count_of_players = age_group_df[\"SN\"].nunique()\n",
    "\n",
    "percentage_of_players = (total_count_of_players/unique_players) * 100\n",
    "percentage_of_players\n",
    "\n",
    "\n",
    "summary_table_3 = pd.DataFrame({\"Percentage of Players\": percentage_of_players,\n",
    "                               \"Total Count\": total_count_of_players,})\n",
    "\n",
    "summary_table_3.style.format({\"Percentage of Players\":\"{:,.2f}\"})\n",
    "\n"
   ]
  },
  {
   "cell_type": "markdown",
   "metadata": {},
   "source": [
    "## Purchasing Analysis (Age)"
   ]
  },
  {
   "cell_type": "markdown",
   "metadata": {},
   "source": [
    "* Bin the purchase_data data frame by age\n",
    "\n",
    "\n",
    "* Run basic calculations to obtain purchase count, avg. purchase price, avg. purchase total per person etc. in the table below\n",
    "\n",
    "\n",
    "* Create a summary data frame to hold the results\n",
    "\n",
    "\n",
    "* Optional: give the displayed data cleaner formatting\n",
    "\n",
    "\n",
    "* Display the summary data frame"
   ]
  },
  {
   "cell_type": "code",
   "execution_count": 11,
   "metadata": {},
   "outputs": [
    {
     "data": {
      "text/html": [
       "<style  type=\"text/css\" >\n",
       "</style><table id=\"T_ed9d4f8a_2b71_11ea_951d_dc8b28836412\" ><thead>    <tr>        <th class=\"blank level0\" ></th>        <th class=\"col_heading level0 col0\" >Purchase Count</th>        <th class=\"col_heading level0 col1\" >Average Purchase Price</th>        <th class=\"col_heading level0 col2\" >Total Purchase Value</th>        <th class=\"col_heading level0 col3\" >Avg Total Purchase per Person</th>    </tr>    <tr>        <th class=\"index_name level0\" >Age Group</th>        <th class=\"blank\" ></th>        <th class=\"blank\" ></th>        <th class=\"blank\" ></th>        <th class=\"blank\" ></th>    </tr></thead><tbody>\n",
       "                <tr>\n",
       "                        <th id=\"T_ed9d4f8a_2b71_11ea_951d_dc8b28836412level0_row0\" class=\"row_heading level0 row0\" ><10</th>\n",
       "                        <td id=\"T_ed9d4f8a_2b71_11ea_951d_dc8b28836412row0_col0\" class=\"data row0 col0\" >23</td>\n",
       "                        <td id=\"T_ed9d4f8a_2b71_11ea_951d_dc8b28836412row0_col1\" class=\"data row0 col1\" >$3.35</td>\n",
       "                        <td id=\"T_ed9d4f8a_2b71_11ea_951d_dc8b28836412row0_col2\" class=\"data row0 col2\" >$77.13</td>\n",
       "                        <td id=\"T_ed9d4f8a_2b71_11ea_951d_dc8b28836412row0_col3\" class=\"data row0 col3\" >$4.54</td>\n",
       "            </tr>\n",
       "            <tr>\n",
       "                        <th id=\"T_ed9d4f8a_2b71_11ea_951d_dc8b28836412level0_row1\" class=\"row_heading level0 row1\" >10-14</th>\n",
       "                        <td id=\"T_ed9d4f8a_2b71_11ea_951d_dc8b28836412row1_col0\" class=\"data row1 col0\" >28</td>\n",
       "                        <td id=\"T_ed9d4f8a_2b71_11ea_951d_dc8b28836412row1_col1\" class=\"data row1 col1\" >$2.96</td>\n",
       "                        <td id=\"T_ed9d4f8a_2b71_11ea_951d_dc8b28836412row1_col2\" class=\"data row1 col2\" >$82.78</td>\n",
       "                        <td id=\"T_ed9d4f8a_2b71_11ea_951d_dc8b28836412row1_col3\" class=\"data row1 col3\" >$3.76</td>\n",
       "            </tr>\n",
       "            <tr>\n",
       "                        <th id=\"T_ed9d4f8a_2b71_11ea_951d_dc8b28836412level0_row2\" class=\"row_heading level0 row2\" >15-19</th>\n",
       "                        <td id=\"T_ed9d4f8a_2b71_11ea_951d_dc8b28836412row2_col0\" class=\"data row2 col0\" >136</td>\n",
       "                        <td id=\"T_ed9d4f8a_2b71_11ea_951d_dc8b28836412row2_col1\" class=\"data row2 col1\" >$3.04</td>\n",
       "                        <td id=\"T_ed9d4f8a_2b71_11ea_951d_dc8b28836412row2_col2\" class=\"data row2 col2\" >$412.89</td>\n",
       "                        <td id=\"T_ed9d4f8a_2b71_11ea_951d_dc8b28836412row2_col3\" class=\"data row2 col3\" >$3.86</td>\n",
       "            </tr>\n",
       "            <tr>\n",
       "                        <th id=\"T_ed9d4f8a_2b71_11ea_951d_dc8b28836412level0_row3\" class=\"row_heading level0 row3\" >20-24</th>\n",
       "                        <td id=\"T_ed9d4f8a_2b71_11ea_951d_dc8b28836412row3_col0\" class=\"data row3 col0\" >365</td>\n",
       "                        <td id=\"T_ed9d4f8a_2b71_11ea_951d_dc8b28836412row3_col1\" class=\"data row3 col1\" >$3.05</td>\n",
       "                        <td id=\"T_ed9d4f8a_2b71_11ea_951d_dc8b28836412row3_col2\" class=\"data row3 col2\" >$1,114.06</td>\n",
       "                        <td id=\"T_ed9d4f8a_2b71_11ea_951d_dc8b28836412row3_col3\" class=\"data row3 col3\" >$4.32</td>\n",
       "            </tr>\n",
       "            <tr>\n",
       "                        <th id=\"T_ed9d4f8a_2b71_11ea_951d_dc8b28836412level0_row4\" class=\"row_heading level0 row4\" >25-29</th>\n",
       "                        <td id=\"T_ed9d4f8a_2b71_11ea_951d_dc8b28836412row4_col0\" class=\"data row4 col0\" >101</td>\n",
       "                        <td id=\"T_ed9d4f8a_2b71_11ea_951d_dc8b28836412row4_col1\" class=\"data row4 col1\" >$2.90</td>\n",
       "                        <td id=\"T_ed9d4f8a_2b71_11ea_951d_dc8b28836412row4_col2\" class=\"data row4 col2\" >$293.00</td>\n",
       "                        <td id=\"T_ed9d4f8a_2b71_11ea_951d_dc8b28836412row4_col3\" class=\"data row4 col3\" >$3.81</td>\n",
       "            </tr>\n",
       "            <tr>\n",
       "                        <th id=\"T_ed9d4f8a_2b71_11ea_951d_dc8b28836412level0_row5\" class=\"row_heading level0 row5\" >30-34</th>\n",
       "                        <td id=\"T_ed9d4f8a_2b71_11ea_951d_dc8b28836412row5_col0\" class=\"data row5 col0\" >73</td>\n",
       "                        <td id=\"T_ed9d4f8a_2b71_11ea_951d_dc8b28836412row5_col1\" class=\"data row5 col1\" >$2.93</td>\n",
       "                        <td id=\"T_ed9d4f8a_2b71_11ea_951d_dc8b28836412row5_col2\" class=\"data row5 col2\" >$214.00</td>\n",
       "                        <td id=\"T_ed9d4f8a_2b71_11ea_951d_dc8b28836412row5_col3\" class=\"data row5 col3\" >$4.12</td>\n",
       "            </tr>\n",
       "            <tr>\n",
       "                        <th id=\"T_ed9d4f8a_2b71_11ea_951d_dc8b28836412level0_row6\" class=\"row_heading level0 row6\" >35-39</th>\n",
       "                        <td id=\"T_ed9d4f8a_2b71_11ea_951d_dc8b28836412row6_col0\" class=\"data row6 col0\" >41</td>\n",
       "                        <td id=\"T_ed9d4f8a_2b71_11ea_951d_dc8b28836412row6_col1\" class=\"data row6 col1\" >$3.60</td>\n",
       "                        <td id=\"T_ed9d4f8a_2b71_11ea_951d_dc8b28836412row6_col2\" class=\"data row6 col2\" >$147.67</td>\n",
       "                        <td id=\"T_ed9d4f8a_2b71_11ea_951d_dc8b28836412row6_col3\" class=\"data row6 col3\" >$4.76</td>\n",
       "            </tr>\n",
       "            <tr>\n",
       "                        <th id=\"T_ed9d4f8a_2b71_11ea_951d_dc8b28836412level0_row7\" class=\"row_heading level0 row7\" >40+</th>\n",
       "                        <td id=\"T_ed9d4f8a_2b71_11ea_951d_dc8b28836412row7_col0\" class=\"data row7 col0\" >13</td>\n",
       "                        <td id=\"T_ed9d4f8a_2b71_11ea_951d_dc8b28836412row7_col1\" class=\"data row7 col1\" >$2.94</td>\n",
       "                        <td id=\"T_ed9d4f8a_2b71_11ea_951d_dc8b28836412row7_col2\" class=\"data row7 col2\" >$38.24</td>\n",
       "                        <td id=\"T_ed9d4f8a_2b71_11ea_951d_dc8b28836412row7_col3\" class=\"data row7 col3\" >$3.19</td>\n",
       "            </tr>\n",
       "    </tbody></table>"
      ],
      "text/plain": [
       "<pandas.io.formats.style.Styler at 0x17b4f5a3048>"
      ]
     },
     "execution_count": 11,
     "metadata": {},
     "output_type": "execute_result"
    }
   ],
   "source": [
    "purchase_count_age = age_group_df[\"Purchase ID\"].nunique()\n",
    "avg_purchase_price_age = age_group_df[\"Price\"].mean()\n",
    "total_purchase_value = age_group_df[\"Price\"].sum()\n",
    "avg_purchase_per_person = total_purchase_value / total_count_of_players\n",
    "\n",
    "summary_table_4 = pd.DataFrame({\"Purchase Count\": purchase_count_age,\n",
    "                  \"Average Purchase Price\": avg_purchase_price_age,\n",
    "                  \"Total Purchase Value\": total_purchase_value,\n",
    "                  \"Avg Total Purchase per Person\": avg_purchase_per_person})\n",
    "\n",
    "summary_table_4.style.format({\"Average Purchase Price\":\"${:,.2f}\",\n",
    "                               \"Total Purchase Value\":\"${:,.2f}\",\n",
    "                               \"Avg Total Purchase per Person\":\"${:,.2f}\"})"
   ]
  },
  {
   "cell_type": "markdown",
   "metadata": {},
   "source": [
    "## Top Spenders"
   ]
  },
  {
   "cell_type": "markdown",
   "metadata": {},
   "source": [
    "* Run basic calculations to obtain the results in the table below\n",
    "\n",
    "\n",
    "* Create a summary data frame to hold the results\n",
    "\n",
    "\n",
    "* Sort the total purchase value column in descending order\n",
    "\n",
    "\n",
    "* Optional: give the displayed data cleaner formatting\n",
    "\n",
    "\n",
    "* Display a preview of the summary data frame\n",
    "\n"
   ]
  },
  {
   "cell_type": "code",
   "execution_count": 44,
   "metadata": {},
   "outputs": [
    {
     "data": {
      "text/html": [
       "<style  type=\"text/css\" >\n",
       "</style><table id=\"T_b050653a_2dea_11ea_90da_dc8b28836412\" ><thead>    <tr>        <th class=\"blank level0\" ></th>        <th class=\"col_heading level0 col0\" >Purchase Count</th>        <th class=\"col_heading level0 col1\" >Average Purchase Price</th>        <th class=\"col_heading level0 col2\" >Total Purchase Value</th>    </tr>    <tr>        <th class=\"index_name level0\" >SN</th>        <th class=\"blank\" ></th>        <th class=\"blank\" ></th>        <th class=\"blank\" ></th>    </tr></thead><tbody>\n",
       "                <tr>\n",
       "                        <th id=\"T_b050653a_2dea_11ea_90da_dc8b28836412level0_row0\" class=\"row_heading level0 row0\" >Lisosia93</th>\n",
       "                        <td id=\"T_b050653a_2dea_11ea_90da_dc8b28836412row0_col0\" class=\"data row0 col0\" >5</td>\n",
       "                        <td id=\"T_b050653a_2dea_11ea_90da_dc8b28836412row0_col1\" class=\"data row0 col1\" >$3.79</td>\n",
       "                        <td id=\"T_b050653a_2dea_11ea_90da_dc8b28836412row0_col2\" class=\"data row0 col2\" >$18.96</td>\n",
       "            </tr>\n",
       "            <tr>\n",
       "                        <th id=\"T_b050653a_2dea_11ea_90da_dc8b28836412level0_row1\" class=\"row_heading level0 row1\" >Idastidru52</th>\n",
       "                        <td id=\"T_b050653a_2dea_11ea_90da_dc8b28836412row1_col0\" class=\"data row1 col0\" >4</td>\n",
       "                        <td id=\"T_b050653a_2dea_11ea_90da_dc8b28836412row1_col1\" class=\"data row1 col1\" >$3.86</td>\n",
       "                        <td id=\"T_b050653a_2dea_11ea_90da_dc8b28836412row1_col2\" class=\"data row1 col2\" >$15.45</td>\n",
       "            </tr>\n",
       "            <tr>\n",
       "                        <th id=\"T_b050653a_2dea_11ea_90da_dc8b28836412level0_row2\" class=\"row_heading level0 row2\" >Chamjask73</th>\n",
       "                        <td id=\"T_b050653a_2dea_11ea_90da_dc8b28836412row2_col0\" class=\"data row2 col0\" >3</td>\n",
       "                        <td id=\"T_b050653a_2dea_11ea_90da_dc8b28836412row2_col1\" class=\"data row2 col1\" >$4.61</td>\n",
       "                        <td id=\"T_b050653a_2dea_11ea_90da_dc8b28836412row2_col2\" class=\"data row2 col2\" >$13.83</td>\n",
       "            </tr>\n",
       "            <tr>\n",
       "                        <th id=\"T_b050653a_2dea_11ea_90da_dc8b28836412level0_row3\" class=\"row_heading level0 row3\" >Iral74</th>\n",
       "                        <td id=\"T_b050653a_2dea_11ea_90da_dc8b28836412row3_col0\" class=\"data row3 col0\" >4</td>\n",
       "                        <td id=\"T_b050653a_2dea_11ea_90da_dc8b28836412row3_col1\" class=\"data row3 col1\" >$3.40</td>\n",
       "                        <td id=\"T_b050653a_2dea_11ea_90da_dc8b28836412row3_col2\" class=\"data row3 col2\" >$13.62</td>\n",
       "            </tr>\n",
       "            <tr>\n",
       "                        <th id=\"T_b050653a_2dea_11ea_90da_dc8b28836412level0_row4\" class=\"row_heading level0 row4\" >Iskadarya95</th>\n",
       "                        <td id=\"T_b050653a_2dea_11ea_90da_dc8b28836412row4_col0\" class=\"data row4 col0\" >3</td>\n",
       "                        <td id=\"T_b050653a_2dea_11ea_90da_dc8b28836412row4_col1\" class=\"data row4 col1\" >$4.37</td>\n",
       "                        <td id=\"T_b050653a_2dea_11ea_90da_dc8b28836412row4_col2\" class=\"data row4 col2\" >$13.10</td>\n",
       "            </tr>\n",
       "    </tbody></table>"
      ],
      "text/plain": [
       "<pandas.io.formats.style.Styler at 0x17b4f587948>"
      ]
     },
     "execution_count": 44,
     "metadata": {},
     "output_type": "execute_result"
    }
   ],
   "source": [
    "## PURCHASE COUNT: counting how much each person PURCHASED - total number of purchases \n",
    "##  average purchase price \n",
    "## total purchase value \n",
    "\n",
    "\n",
    "top_spenders = df.groupby(\"SN\")\n",
    "purchase_count_sn = top_spenders[\"Purchase ID\"].count()\n",
    "avg_purchase_price_sn = top_spenders[\"Price\"].mean()\n",
    "total_purchase_value_sn = top_spenders[\"Price\"].sum()\n",
    "\n",
    "\n",
    "summary_table_5 = pd.DataFrame({\"Purchase Count\": purchase_count_sn,\n",
    "                  \"Average Purchase Price\": avg_purchase_price_sn,\n",
    "                  \"Total Purchase Value\": total_purchase_value_sn})\n",
    "\n",
    "top_spenders_sn = summary_table_5.sort_values([\"Total Purchase Value\"], ascending=False).head()\n",
    "\n",
    "\n",
    "top_spenders_sn.style.format({\"Average Purchase Price\":\"${:,.2f}\",\n",
    "                               \"Total Purchase Value\":\"${:,.2f}\",})"
   ]
  },
  {
   "cell_type": "markdown",
   "metadata": {},
   "source": [
    "## Most Popular Items"
   ]
  },
  {
   "cell_type": "markdown",
   "metadata": {},
   "source": [
    "* Retrieve the Item ID, Item Name, and Item Price columns\n",
    "\n",
    "\n",
    "* Group by Item ID and Item Name. Perform calculations to obtain purchase count, item price, and total purchase value\n",
    "\n",
    "\n",
    "* Create a summary data frame to hold the results\n",
    "\n",
    "\n",
    "* Sort the purchase count column in descending order\n",
    "\n",
    "\n",
    "* Optional: give the displayed data cleaner formatting\n",
    "\n",
    "\n",
    "* Display a preview of the summary data frame\n",
    "\n"
   ]
  },
  {
   "cell_type": "code",
   "execution_count": 51,
   "metadata": {},
   "outputs": [
    {
     "data": {
      "text/html": [
       "<style  type=\"text/css\" >\n",
       "</style><table id=\"T_c6a726c6_2e8d_11ea_8c4b_dc8b28836412\" ><thead>    <tr>        <th class=\"blank\" ></th>        <th class=\"blank level0\" ></th>        <th class=\"col_heading level0 col0\" >Purchase Count</th>        <th class=\"col_heading level0 col1\" >Item Price</th>        <th class=\"col_heading level0 col2\" >Total Purchase Value</th>    </tr>    <tr>        <th class=\"index_name level0\" >Item ID</th>        <th class=\"index_name level1\" >Item Name</th>        <th class=\"blank\" ></th>        <th class=\"blank\" ></th>        <th class=\"blank\" ></th>    </tr></thead><tbody>\n",
       "                <tr>\n",
       "                        <th id=\"T_c6a726c6_2e8d_11ea_8c4b_dc8b28836412level0_row0\" class=\"row_heading level0 row0\" >178</th>\n",
       "                        <th id=\"T_c6a726c6_2e8d_11ea_8c4b_dc8b28836412level1_row0\" class=\"row_heading level1 row0\" >Oathbreaker, Last Hope of the Breaking Storm</th>\n",
       "                        <td id=\"T_c6a726c6_2e8d_11ea_8c4b_dc8b28836412row0_col0\" class=\"data row0 col0\" >12</td>\n",
       "                        <td id=\"T_c6a726c6_2e8d_11ea_8c4b_dc8b28836412row0_col1\" class=\"data row0 col1\" >$4.23</td>\n",
       "                        <td id=\"T_c6a726c6_2e8d_11ea_8c4b_dc8b28836412row0_col2\" class=\"data row0 col2\" >$50.76</td>\n",
       "            </tr>\n",
       "            <tr>\n",
       "                        <th id=\"T_c6a726c6_2e8d_11ea_8c4b_dc8b28836412level0_row1\" class=\"row_heading level0 row1\" >145</th>\n",
       "                        <th id=\"T_c6a726c6_2e8d_11ea_8c4b_dc8b28836412level1_row1\" class=\"row_heading level1 row1\" >Fiery Glass Crusader</th>\n",
       "                        <td id=\"T_c6a726c6_2e8d_11ea_8c4b_dc8b28836412row1_col0\" class=\"data row1 col0\" >9</td>\n",
       "                        <td id=\"T_c6a726c6_2e8d_11ea_8c4b_dc8b28836412row1_col1\" class=\"data row1 col1\" >$4.58</td>\n",
       "                        <td id=\"T_c6a726c6_2e8d_11ea_8c4b_dc8b28836412row1_col2\" class=\"data row1 col2\" >$41.22</td>\n",
       "            </tr>\n",
       "            <tr>\n",
       "                        <th id=\"T_c6a726c6_2e8d_11ea_8c4b_dc8b28836412level0_row2\" class=\"row_heading level0 row2\" >108</th>\n",
       "                        <th id=\"T_c6a726c6_2e8d_11ea_8c4b_dc8b28836412level1_row2\" class=\"row_heading level1 row2\" >Extraction, Quickblade Of Trembling Hands</th>\n",
       "                        <td id=\"T_c6a726c6_2e8d_11ea_8c4b_dc8b28836412row2_col0\" class=\"data row2 col0\" >9</td>\n",
       "                        <td id=\"T_c6a726c6_2e8d_11ea_8c4b_dc8b28836412row2_col1\" class=\"data row2 col1\" >$3.53</td>\n",
       "                        <td id=\"T_c6a726c6_2e8d_11ea_8c4b_dc8b28836412row2_col2\" class=\"data row2 col2\" >$31.77</td>\n",
       "            </tr>\n",
       "            <tr>\n",
       "                        <th id=\"T_c6a726c6_2e8d_11ea_8c4b_dc8b28836412level0_row3\" class=\"row_heading level0 row3\" >82</th>\n",
       "                        <th id=\"T_c6a726c6_2e8d_11ea_8c4b_dc8b28836412level1_row3\" class=\"row_heading level1 row3\" >Nirvana</th>\n",
       "                        <td id=\"T_c6a726c6_2e8d_11ea_8c4b_dc8b28836412row3_col0\" class=\"data row3 col0\" >9</td>\n",
       "                        <td id=\"T_c6a726c6_2e8d_11ea_8c4b_dc8b28836412row3_col1\" class=\"data row3 col1\" >$4.90</td>\n",
       "                        <td id=\"T_c6a726c6_2e8d_11ea_8c4b_dc8b28836412row3_col2\" class=\"data row3 col2\" >$44.10</td>\n",
       "            </tr>\n",
       "            <tr>\n",
       "                        <th id=\"T_c6a726c6_2e8d_11ea_8c4b_dc8b28836412level0_row4\" class=\"row_heading level0 row4\" >19</th>\n",
       "                        <th id=\"T_c6a726c6_2e8d_11ea_8c4b_dc8b28836412level1_row4\" class=\"row_heading level1 row4\" >Pursuit, Cudgel of Necromancy</th>\n",
       "                        <td id=\"T_c6a726c6_2e8d_11ea_8c4b_dc8b28836412row4_col0\" class=\"data row4 col0\" >8</td>\n",
       "                        <td id=\"T_c6a726c6_2e8d_11ea_8c4b_dc8b28836412row4_col1\" class=\"data row4 col1\" >$1.02</td>\n",
       "                        <td id=\"T_c6a726c6_2e8d_11ea_8c4b_dc8b28836412row4_col2\" class=\"data row4 col2\" >$8.16</td>\n",
       "            </tr>\n",
       "    </tbody></table>"
      ],
      "text/plain": [
       "<pandas.io.formats.style.Styler at 0x17b4f803f48>"
      ]
     },
     "execution_count": 51,
     "metadata": {},
     "output_type": "execute_result"
    }
   ],
   "source": [
    "popular_items = df[[\"Item ID\", \"Item Name\", \"Price\"]]\n",
    "item_group_df = popular_items.groupby([\"Item ID\", \"Item Name\"])\n",
    "\n",
    "\n",
    "purchase_count_item = item_group_df[\"Price\"].count()\n",
    "total_purchase_value_item = item_group_df[\"Price\"].sum()\n",
    "item_price = total_purchase_value_item/purchase_count_item\n",
    "\n",
    "summary_table_6 = pd.DataFrame({\"Purchase Count\": purchase_count_item,\n",
    "                  \"Item Price\": item_price,\n",
    "                  \"Total Purchase Value\": total_purchase_value_item})\n",
    "\n",
    "popular_items_sn = summary_table_6.sort_values([\"Purchase Count\"], ascending=False).head()\n",
    "\n",
    "\n",
    "popular_items_sn.style.format({\"Item Price\":\"${:,.2f}\",\n",
    "                               \"Total Purchase Value\":\"${:,.2f}\",})"
   ]
  },
  {
   "cell_type": "markdown",
   "metadata": {},
   "source": [
    "## Most Profitable Items"
   ]
  },
  {
   "cell_type": "markdown",
   "metadata": {},
   "source": [
    "* Sort the above table by total purchase value in descending order\n",
    "\n",
    "\n",
    "* Optional: give the displayed data cleaner formatting\n",
    "\n",
    "\n",
    "* Display a preview of the data frame\n",
    "\n"
   ]
  },
  {
   "cell_type": "code",
   "execution_count": 54,
   "metadata": {
    "scrolled": true
   },
   "outputs": [
    {
     "data": {
      "text/html": [
       "<style  type=\"text/css\" >\n",
       "</style><table id=\"T_a985971e_2e8e_11ea_9f24_dc8b28836412\" ><thead>    <tr>        <th class=\"blank\" ></th>        <th class=\"blank level0\" ></th>        <th class=\"col_heading level0 col0\" >Purchase Count</th>        <th class=\"col_heading level0 col1\" >Item Price</th>        <th class=\"col_heading level0 col2\" >Total Purchase Value</th>    </tr>    <tr>        <th class=\"index_name level0\" >Item ID</th>        <th class=\"index_name level1\" >Item Name</th>        <th class=\"blank\" ></th>        <th class=\"blank\" ></th>        <th class=\"blank\" ></th>    </tr></thead><tbody>\n",
       "                <tr>\n",
       "                        <th id=\"T_a985971e_2e8e_11ea_9f24_dc8b28836412level0_row0\" class=\"row_heading level0 row0\" >178</th>\n",
       "                        <th id=\"T_a985971e_2e8e_11ea_9f24_dc8b28836412level1_row0\" class=\"row_heading level1 row0\" >Oathbreaker, Last Hope of the Breaking Storm</th>\n",
       "                        <td id=\"T_a985971e_2e8e_11ea_9f24_dc8b28836412row0_col0\" class=\"data row0 col0\" >12</td>\n",
       "                        <td id=\"T_a985971e_2e8e_11ea_9f24_dc8b28836412row0_col1\" class=\"data row0 col1\" >$4.23</td>\n",
       "                        <td id=\"T_a985971e_2e8e_11ea_9f24_dc8b28836412row0_col2\" class=\"data row0 col2\" >$50.76</td>\n",
       "            </tr>\n",
       "            <tr>\n",
       "                        <th id=\"T_a985971e_2e8e_11ea_9f24_dc8b28836412level0_row1\" class=\"row_heading level0 row1\" >82</th>\n",
       "                        <th id=\"T_a985971e_2e8e_11ea_9f24_dc8b28836412level1_row1\" class=\"row_heading level1 row1\" >Nirvana</th>\n",
       "                        <td id=\"T_a985971e_2e8e_11ea_9f24_dc8b28836412row1_col0\" class=\"data row1 col0\" >9</td>\n",
       "                        <td id=\"T_a985971e_2e8e_11ea_9f24_dc8b28836412row1_col1\" class=\"data row1 col1\" >$4.90</td>\n",
       "                        <td id=\"T_a985971e_2e8e_11ea_9f24_dc8b28836412row1_col2\" class=\"data row1 col2\" >$44.10</td>\n",
       "            </tr>\n",
       "            <tr>\n",
       "                        <th id=\"T_a985971e_2e8e_11ea_9f24_dc8b28836412level0_row2\" class=\"row_heading level0 row2\" >145</th>\n",
       "                        <th id=\"T_a985971e_2e8e_11ea_9f24_dc8b28836412level1_row2\" class=\"row_heading level1 row2\" >Fiery Glass Crusader</th>\n",
       "                        <td id=\"T_a985971e_2e8e_11ea_9f24_dc8b28836412row2_col0\" class=\"data row2 col0\" >9</td>\n",
       "                        <td id=\"T_a985971e_2e8e_11ea_9f24_dc8b28836412row2_col1\" class=\"data row2 col1\" >$4.58</td>\n",
       "                        <td id=\"T_a985971e_2e8e_11ea_9f24_dc8b28836412row2_col2\" class=\"data row2 col2\" >$41.22</td>\n",
       "            </tr>\n",
       "            <tr>\n",
       "                        <th id=\"T_a985971e_2e8e_11ea_9f24_dc8b28836412level0_row3\" class=\"row_heading level0 row3\" >92</th>\n",
       "                        <th id=\"T_a985971e_2e8e_11ea_9f24_dc8b28836412level1_row3\" class=\"row_heading level1 row3\" >Final Critic</th>\n",
       "                        <td id=\"T_a985971e_2e8e_11ea_9f24_dc8b28836412row3_col0\" class=\"data row3 col0\" >8</td>\n",
       "                        <td id=\"T_a985971e_2e8e_11ea_9f24_dc8b28836412row3_col1\" class=\"data row3 col1\" >$4.88</td>\n",
       "                        <td id=\"T_a985971e_2e8e_11ea_9f24_dc8b28836412row3_col2\" class=\"data row3 col2\" >$39.04</td>\n",
       "            </tr>\n",
       "            <tr>\n",
       "                        <th id=\"T_a985971e_2e8e_11ea_9f24_dc8b28836412level0_row4\" class=\"row_heading level0 row4\" >103</th>\n",
       "                        <th id=\"T_a985971e_2e8e_11ea_9f24_dc8b28836412level1_row4\" class=\"row_heading level1 row4\" >Singed Scalpel</th>\n",
       "                        <td id=\"T_a985971e_2e8e_11ea_9f24_dc8b28836412row4_col0\" class=\"data row4 col0\" >8</td>\n",
       "                        <td id=\"T_a985971e_2e8e_11ea_9f24_dc8b28836412row4_col1\" class=\"data row4 col1\" >$4.35</td>\n",
       "                        <td id=\"T_a985971e_2e8e_11ea_9f24_dc8b28836412row4_col2\" class=\"data row4 col2\" >$34.80</td>\n",
       "            </tr>\n",
       "    </tbody></table>"
      ],
      "text/plain": [
       "<pandas.io.formats.style.Styler at 0x17b4f14ab08>"
      ]
     },
     "execution_count": 54,
     "metadata": {},
     "output_type": "execute_result"
    }
   ],
   "source": [
    "popular_items_sn = summary_table_6.sort_values([\"Total Purchase Value\"], ascending=False).head()\n",
    "popular_items_sn.style.format({\"Item Price\":\"${:,.2f}\",\n",
    "                               \"Total Purchase Value\":\"${:,.2f}\",})"
   ]
  },
  {
   "cell_type": "code",
   "execution_count": null,
   "metadata": {},
   "outputs": [],
   "source": []
  }
 ],
 "metadata": {
  "anaconda-cloud": {},
  "kernel_info": {
   "name": "python3"
  },
  "kernelspec": {
   "display_name": "Python 3",
   "language": "python",
   "name": "python3"
  },
  "language_info": {
   "codemirror_mode": {
    "name": "ipython",
    "version": 3
   },
   "file_extension": ".py",
   "mimetype": "text/x-python",
   "name": "python",
   "nbconvert_exporter": "python",
   "pygments_lexer": "ipython3",
   "version": "3.7.4"
  },
  "latex_envs": {
   "LaTeX_envs_menu_present": true,
   "autoclose": false,
   "autocomplete": true,
   "bibliofile": "biblio.bib",
   "cite_by": "apalike",
   "current_citInitial": 1,
   "eqLabelWithNumbers": true,
   "eqNumInitial": 1,
   "hotkeys": {
    "equation": "Ctrl-E",
    "itemize": "Ctrl-I"
   },
   "labels_anchors": false,
   "latex_user_defs": false,
   "report_style_numbering": false,
   "user_envs_cfg": false
  },
  "nteract": {
   "version": "0.2.0"
  }
 },
 "nbformat": 4,
 "nbformat_minor": 2
}
